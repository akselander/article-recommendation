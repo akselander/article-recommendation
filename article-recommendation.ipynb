{
 "cells": [
  {
   "cell_type": "markdown",
   "metadata": {},
   "source": [
    "# Filter out non english sources"
   ]
  },
  {
   "cell_type": "code",
   "execution_count": 253,
   "metadata": {},
   "outputs": [
    {
     "data": {
      "text/html": [
       "<div>\n",
       "<style scoped>\n",
       "    .dataframe tbody tr th:only-of-type {\n",
       "        vertical-align: middle;\n",
       "    }\n",
       "\n",
       "    .dataframe tbody tr th {\n",
       "        vertical-align: top;\n",
       "    }\n",
       "\n",
       "    .dataframe thead th {\n",
       "        text-align: right;\n",
       "    }\n",
       "</style>\n",
       "<table border=\"1\" class=\"dataframe\">\n",
       "  <thead>\n",
       "    <tr style=\"text-align: right;\">\n",
       "      <th></th>\n",
       "      <th>TITLE</th>\n",
       "      <th>TEXT</th>\n",
       "      <th>SUMMARY</th>\n",
       "    </tr>\n",
       "  </thead>\n",
       "  <tbody>\n",
       "    <tr>\n",
       "      <td>0</td>\n",
       "      <td>Tina Fey plays sexual predator for laughs on T...</td>\n",
       "      <td>Thursday night’s episode of the TV comedy seri...</td>\n",
       "      <td>Thursday night’s episode of the TV comedy seri...</td>\n",
       "    </tr>\n",
       "    <tr>\n",
       "      <td>1</td>\n",
       "      <td>NAFTA's future remains unclear as talks continue</td>\n",
       "      <td>Few clues emerged from President Donald Trump’...</td>\n",
       "      <td>Few clues emerged from President Donald Trump’...</td>\n",
       "    </tr>\n",
       "    <tr>\n",
       "      <td>2</td>\n",
       "      <td>ISIS recruiter 'White Widow' believed dead aft...</td>\n",
       "      <td>Sally “White Widow” Jones – one of the most no...</td>\n",
       "      <td>Sally “White Widow” Jones – one of the most no...</td>\n",
       "    </tr>\n",
       "    <tr>\n",
       "      <td>3</td>\n",
       "      <td>Florida man set on fire after losing NFL bet</td>\n",
       "      <td>A bet between family members watching a Nation...</td>\n",
       "      <td>A bet between family members watching a Nation...</td>\n",
       "    </tr>\n",
       "    <tr>\n",
       "      <td>4</td>\n",
       "      <td>Former runner takes on 5K 9 years after tragic...</td>\n",
       "      <td>On July 27, 2009, Stormy Cushing was on her wa...</td>\n",
       "      <td>On July 27, 2009, Stormy Cushing was on her wa...</td>\n",
       "    </tr>\n",
       "  </tbody>\n",
       "</table>\n",
       "</div>"
      ],
      "text/plain": [
       "                                               TITLE  \\\n",
       "0  Tina Fey plays sexual predator for laughs on T...   \n",
       "1   NAFTA's future remains unclear as talks continue   \n",
       "2  ISIS recruiter 'White Widow' believed dead aft...   \n",
       "3       Florida man set on fire after losing NFL bet   \n",
       "4  Former runner takes on 5K 9 years after tragic...   \n",
       "\n",
       "                                                TEXT  \\\n",
       "0  Thursday night’s episode of the TV comedy seri...   \n",
       "1  Few clues emerged from President Donald Trump’...   \n",
       "2  Sally “White Widow” Jones – one of the most no...   \n",
       "3  A bet between family members watching a Nation...   \n",
       "4  On July 27, 2009, Stormy Cushing was on her wa...   \n",
       "\n",
       "                                             SUMMARY  \n",
       "0  Thursday night’s episode of the TV comedy seri...  \n",
       "1  Few clues emerged from President Donald Trump’...  \n",
       "2  Sally “White Widow” Jones – one of the most no...  \n",
       "3  A bet between family members watching a Nation...  \n",
       "4  On July 27, 2009, Stormy Cushing was on her wa...  "
      ]
     },
     "execution_count": 253,
     "metadata": {},
     "output_type": "execute_result"
    }
   ],
   "source": [
    "import nltk\n",
    "import pandas as pd\n",
    "import re\n",
    "from nltk.corpus import stopwords\n",
    "from pickle import dump, load\n",
    "\n",
    "dataset = pd.read_csv('data/EveryArticle.csv')\n",
    "\n",
    "articles.head(5)"
   ]
  },
  {
   "cell_type": "code",
   "execution_count": 261,
   "metadata": {},
   "outputs": [
    {
     "name": "stdout",
     "output_type": "stream",
     "text": [
      "11472\n"
     ]
    },
    {
     "data": {
      "text/html": [
       "<div>\n",
       "<style scoped>\n",
       "    .dataframe tbody tr th:only-of-type {\n",
       "        vertical-align: middle;\n",
       "    }\n",
       "\n",
       "    .dataframe tbody tr th {\n",
       "        vertical-align: top;\n",
       "    }\n",
       "\n",
       "    .dataframe thead th {\n",
       "        text-align: right;\n",
       "    }\n",
       "</style>\n",
       "<table border=\"1\" class=\"dataframe\">\n",
       "  <thead>\n",
       "    <tr style=\"text-align: right;\">\n",
       "      <th></th>\n",
       "      <th>Unnamed: 0</th>\n",
       "      <th>Unnamed: 0.1</th>\n",
       "      <th>KEYWORDS</th>\n",
       "      <th>SUMMARY</th>\n",
       "      <th>TEXT</th>\n",
       "      <th>TITLE</th>\n",
       "      <th>URL</th>\n",
       "    </tr>\n",
       "  </thead>\n",
       "  <tbody>\n",
       "    <tr>\n",
       "      <td>455</td>\n",
       "      <td>574</td>\n",
       "      <td>284</td>\n",
       "      <td>['machines', 'used', 'say', 'weapons', 'theyre...</td>\n",
       "      <td>And while they might not look like much, exper...</td>\n",
       "      <td>Transcript\\n\\n&gt;&gt;\\n\\nA pop song celebrating a N...</td>\n",
       "      <td>The mechanical hero behind North Korea's nukes</td>\n",
       "      <td>https://www.reuters.tv/v/aaH/2017/10/12/the-me...</td>\n",
       "    </tr>\n",
       "    <tr>\n",
       "      <td>1878</td>\n",
       "      <td>2254</td>\n",
       "      <td>9</td>\n",
       "      <td>['dont', 'debunking', 'need', 'fund', 'mutual'...</td>\n",
       "      <td>Myths about mutual funds are the third sort an...</td>\n",
       "      <td>ADVERTISEMENT\\n\\nA myth is defined as a widely...</td>\n",
       "      <td>Debunking Some Key Mutual Fund Myths</td>\n",
       "      <td>http://www.huffingtonpost.in/cleartax/debunkin...</td>\n",
       "    </tr>\n",
       "    <tr>\n",
       "      <td>1879</td>\n",
       "      <td>2255</td>\n",
       "      <td>10</td>\n",
       "      <td>['cette', 'drôle', 'plus', 'le', 'les', 'du', ...</td>\n",
       "      <td>CINÉMA - Un tremblement de terre, et la fin d'...</td>\n",
       "      <td>CINÉMA - Un tremblement de terre, et la fin d'...</td>\n",
       "      <td>Cette blague de 2013 sur Harvey Weinstein pren...</td>\n",
       "      <td>http://www.huffingtonpost.fr/2017/10/11/cette-...</td>\n",
       "    </tr>\n",
       "    <tr>\n",
       "      <td>1882</td>\n",
       "      <td>2260</td>\n",
       "      <td>15</td>\n",
       "      <td>['sc', 'world', 'morning', 'marriage', 'child'...</td>\n",
       "      <td>ADVERTISEMENTThe Morning Wrap is HuffPost Indi...</td>\n",
       "      <td>ADVERTISEMENT\\n\\nThe Morning Wrap is HuffPost ...</td>\n",
       "      <td>The Morning Wrap: SC Delivers A Blow To Child ...</td>\n",
       "      <td>http://www.huffingtonpost.in/2017/10/11/the-mo...</td>\n",
       "    </tr>\n",
       "    <tr>\n",
       "      <td>1883</td>\n",
       "      <td>2261</td>\n",
       "      <td>16</td>\n",
       "      <td>['means', 'roshan', 'needs', 'woman', 'right',...</td>\n",
       "      <td>By the time you reach the sixth or the seventh...</td>\n",
       "      <td>ADVERTISEMENT\\n\\nThe Kangana-Hrithik affair, i...</td>\n",
       "      <td>If Farhan Akhtar Thinks Hrithik Roshan Was Dis...</td>\n",
       "      <td>http://www.huffingtonpost.in/2017/10/09/if-far...</td>\n",
       "    </tr>\n",
       "  </tbody>\n",
       "</table>\n",
       "</div>"
      ],
      "text/plain": [
       "      Unnamed: 0  Unnamed: 0.1  \\\n",
       "455          574           284   \n",
       "1878        2254             9   \n",
       "1879        2255            10   \n",
       "1882        2260            15   \n",
       "1883        2261            16   \n",
       "\n",
       "                                               KEYWORDS  \\\n",
       "455   ['machines', 'used', 'say', 'weapons', 'theyre...   \n",
       "1878  ['dont', 'debunking', 'need', 'fund', 'mutual'...   \n",
       "1879  ['cette', 'drôle', 'plus', 'le', 'les', 'du', ...   \n",
       "1882  ['sc', 'world', 'morning', 'marriage', 'child'...   \n",
       "1883  ['means', 'roshan', 'needs', 'woman', 'right',...   \n",
       "\n",
       "                                                SUMMARY  \\\n",
       "455   And while they might not look like much, exper...   \n",
       "1878  Myths about mutual funds are the third sort an...   \n",
       "1879  CINÉMA - Un tremblement de terre, et la fin d'...   \n",
       "1882  ADVERTISEMENTThe Morning Wrap is HuffPost Indi...   \n",
       "1883  By the time you reach the sixth or the seventh...   \n",
       "\n",
       "                                                   TEXT  \\\n",
       "455   Transcript\\n\\n>>\\n\\nA pop song celebrating a N...   \n",
       "1878  ADVERTISEMENT\\n\\nA myth is defined as a widely...   \n",
       "1879  CINÉMA - Un tremblement de terre, et la fin d'...   \n",
       "1882  ADVERTISEMENT\\n\\nThe Morning Wrap is HuffPost ...   \n",
       "1883  ADVERTISEMENT\\n\\nThe Kangana-Hrithik affair, i...   \n",
       "\n",
       "                                                  TITLE  \\\n",
       "455      The mechanical hero behind North Korea's nukes   \n",
       "1878               Debunking Some Key Mutual Fund Myths   \n",
       "1879  Cette blague de 2013 sur Harvey Weinstein pren...   \n",
       "1882  The Morning Wrap: SC Delivers A Blow To Child ...   \n",
       "1883  If Farhan Akhtar Thinks Hrithik Roshan Was Dis...   \n",
       "\n",
       "                                                    URL  \n",
       "455   https://www.reuters.tv/v/aaH/2017/10/12/the-me...  \n",
       "1878  http://www.huffingtonpost.in/cleartax/debunkin...  \n",
       "1879  http://www.huffingtonpost.fr/2017/10/11/cette-...  \n",
       "1882  http://www.huffingtonpost.in/2017/10/11/the-mo...  \n",
       "1883  http://www.huffingtonpost.in/2017/10/09/if-far...  "
      ]
     },
     "execution_count": 261,
     "metadata": {},
     "output_type": "execute_result"
    }
   ],
   "source": [
    "pattern = r'http(s)?:\\/\\/.*\\.[com|ca|uk].*'\n",
    "chinese_sites_pattern = r'http(s)?:\\/\\/cn\\..*\\.com.*'\n",
    "\n",
    "articles = dataset.drop_duplicates()\n",
    "articles = dataset[dataset['URL'].str.contains(pattern)]\n",
    "\n",
    "articles = articles[~articles['URL'].str.contains(chinese_sites_pattern)]\n",
    "\n",
    "rejected = pd.concat([dataset,articles]).drop_duplicates(keep=False)\n",
    "\n",
    "print(len(rejected))\n",
    "\n",
    "rejected.head(5)"
   ]
  },
  {
   "cell_type": "code",
   "execution_count": 262,
   "metadata": {},
   "outputs": [
    {
     "data": {
      "text/html": [
       "<div>\n",
       "<style scoped>\n",
       "    .dataframe tbody tr th:only-of-type {\n",
       "        vertical-align: middle;\n",
       "    }\n",
       "\n",
       "    .dataframe tbody tr th {\n",
       "        vertical-align: top;\n",
       "    }\n",
       "\n",
       "    .dataframe thead th {\n",
       "        text-align: right;\n",
       "    }\n",
       "</style>\n",
       "<table border=\"1\" class=\"dataframe\">\n",
       "  <thead>\n",
       "    <tr style=\"text-align: right;\">\n",
       "      <th></th>\n",
       "      <th>Unnamed: 0</th>\n",
       "      <th>Unnamed: 0.1</th>\n",
       "      <th>KEYWORDS</th>\n",
       "      <th>SUMMARY</th>\n",
       "      <th>TEXT</th>\n",
       "      <th>TITLE</th>\n",
       "      <th>URL</th>\n",
       "    </tr>\n",
       "  </thead>\n",
       "  <tbody>\n",
       "    <tr>\n",
       "      <td>110020</td>\n",
       "      <td>133749</td>\n",
       "      <td>232</td>\n",
       "      <td>['nugent谈起茱莉泰摩julie', 'taymor的时候真的非常兴奋我有时候觉得由于...</td>\n",
       "      <td>剧作家黄哲伦(David Henry Hwang)友好地警告我，他可能会回避一些问题。他的作...</td>\n",
       "      <td>剧作家黄哲伦(David Henry Hwang)友好地警告我，他可能会回避一些问题。他的作...</td>\n",
       "      <td>阔别20年，《蝴蝶君》重返百老汇</td>\n",
       "      <td>https://cn.nytstyle.com/culture/20171023/new-f...</td>\n",
       "    </tr>\n",
       "    <tr>\n",
       "      <td>110058</td>\n",
       "      <td>133792</td>\n",
       "      <td>275</td>\n",
       "      <td>['recognized', '正是这部电影将这个过时的英文词语介绍给了许多观众一些人也把这...</td>\n",
       "      <td>关键词：Concubine \\ˈkɒŋkjʊbʌɪn\\ 妾中国女性史诗小说《喜福会》的作者谭...</td>\n",
       "      <td>关键词：Concubine \\ˈkɒŋkjʊbʌɪn\\ 妾\\n\\n中国女性史诗小说《喜福会》...</td>\n",
       "      <td>Concubine：名为“妾”的历史幽灵</td>\n",
       "      <td>https://cn.nytstyle.com/culture/20171019/t19wo...</td>\n",
       "    </tr>\n",
       "    <tr>\n",
       "      <td>110073</td>\n",
       "      <td>133808</td>\n",
       "      <td>291</td>\n",
       "      <td>['times', '美国电动汽车制造厂特斯拉tesla计划在上海建生产线', '陈扎克伯格...</td>\n",
       "      <td>早安。以下是今日不容错过的新闻：• 据日本公共广播电台NHK报道，安倍晋三(Shinzo A...</td>\n",
       "      <td>早安。\\n\\n以下是今日不容错过的新闻：\\n\\n• 据日本公共广播电台NHK报道，安倍晋三(...</td>\n",
       "      <td>\\n</td>\n",
       "      <td>https://cn.nytstyle.com/morning-brief/20171023...</td>\n",
       "    </tr>\n",
       "    <tr>\n",
       "      <td>110076</td>\n",
       "      <td>133812</td>\n",
       "      <td>295</td>\n",
       "      <td>['stalins', 'war', 'stalin在内的8本书的作者', '翻译纽约时报中...</td>\n",
       "      <td>《红色饥荒：斯大林对乌克兰的战争》(RED FAMINE: Stalin’s War on ...</td>\n",
       "      <td>《红色饥荒：斯大林对乌克兰的战争》\\n\\n(RED FAMINE: Stalin’s War...</td>\n",
       "      <td>\\n</td>\n",
       "      <td>https://cn.nytstyle.com/culture/20171020/red-f...</td>\n",
       "    </tr>\n",
       "    <tr>\n",
       "      <td>110081</td>\n",
       "      <td>133818</td>\n",
       "      <td>301</td>\n",
       "      <td>['纽约时报中文网', 'daniel', 'york', '国际纵览', 'berehul...</td>\n",
       "      <td>Daniel Berehulak for The New York Times马尼拉一间警察...</td>\n",
       "      <td>Daniel Berehulak for The New York Times\\n\\n马尼拉...</td>\n",
       "      <td>纽约时报中文网 国际纵览</td>\n",
       "      <td>https://cn.nytimes.com/topic/20160427/pulitzer...</td>\n",
       "    </tr>\n",
       "  </tbody>\n",
       "</table>\n",
       "</div>"
      ],
      "text/plain": [
       "        Unnamed: 0  Unnamed: 0.1  \\\n",
       "110020      133749           232   \n",
       "110058      133792           275   \n",
       "110073      133808           291   \n",
       "110076      133812           295   \n",
       "110081      133818           301   \n",
       "\n",
       "                                                 KEYWORDS  \\\n",
       "110020  ['nugent谈起茱莉泰摩julie', 'taymor的时候真的非常兴奋我有时候觉得由于...   \n",
       "110058  ['recognized', '正是这部电影将这个过时的英文词语介绍给了许多观众一些人也把这...   \n",
       "110073  ['times', '美国电动汽车制造厂特斯拉tesla计划在上海建生产线', '陈扎克伯格...   \n",
       "110076  ['stalins', 'war', 'stalin在内的8本书的作者', '翻译纽约时报中...   \n",
       "110081  ['纽约时报中文网', 'daniel', 'york', '国际纵览', 'berehul...   \n",
       "\n",
       "                                                  SUMMARY  \\\n",
       "110020  剧作家黄哲伦(David Henry Hwang)友好地警告我，他可能会回避一些问题。他的作...   \n",
       "110058  关键词：Concubine \\ˈkɒŋkjʊbʌɪn\\ 妾中国女性史诗小说《喜福会》的作者谭...   \n",
       "110073  早安。以下是今日不容错过的新闻：• 据日本公共广播电台NHK报道，安倍晋三(Shinzo A...   \n",
       "110076  《红色饥荒：斯大林对乌克兰的战争》(RED FAMINE: Stalin’s War on ...   \n",
       "110081  Daniel Berehulak for The New York Times马尼拉一间警察...   \n",
       "\n",
       "                                                     TEXT  \\\n",
       "110020  剧作家黄哲伦(David Henry Hwang)友好地警告我，他可能会回避一些问题。他的作...   \n",
       "110058  关键词：Concubine \\ˈkɒŋkjʊbʌɪn\\ 妾\\n\\n中国女性史诗小说《喜福会》...   \n",
       "110073  早安。\\n\\n以下是今日不容错过的新闻：\\n\\n• 据日本公共广播电台NHK报道，安倍晋三(...   \n",
       "110076  《红色饥荒：斯大林对乌克兰的战争》\\n\\n(RED FAMINE: Stalin’s War...   \n",
       "110081  Daniel Berehulak for The New York Times\\n\\n马尼拉...   \n",
       "\n",
       "                       TITLE  \\\n",
       "110020      阔别20年，《蝴蝶君》重返百老汇   \n",
       "110058  Concubine：名为“妾”的历史幽灵   \n",
       "110073            \\n           \n",
       "110076            \\n           \n",
       "110081          纽约时报中文网 国际纵览   \n",
       "\n",
       "                                                      URL  \n",
       "110020  https://cn.nytstyle.com/culture/20171023/new-f...  \n",
       "110058  https://cn.nytstyle.com/culture/20171019/t19wo...  \n",
       "110073  https://cn.nytstyle.com/morning-brief/20171023...  \n",
       "110076  https://cn.nytstyle.com/culture/20171020/red-f...  \n",
       "110081  https://cn.nytimes.com/topic/20160427/pulitzer...  "
      ]
     },
     "execution_count": 262,
     "metadata": {},
     "output_type": "execute_result"
    }
   ],
   "source": [
    "rejected.tail(5)"
   ]
  },
  {
   "cell_type": "code",
   "execution_count": 263,
   "metadata": {},
   "outputs": [
    {
     "name": "stdout",
     "output_type": "stream",
     "text": [
      "98631\n",
      "34038\n",
      "                                               TITLE  \\\n",
      "0  Tina Fey plays sexual predator for laughs on T...   \n",
      "1   NAFTA's future remains unclear as talks continue   \n",
      "2  ISIS recruiter 'White Widow' believed dead aft...   \n",
      "3       Florida man set on fire after losing NFL bet   \n",
      "4  Former runner takes on 5K 9 years after tragic...   \n",
      "\n",
      "                                                TEXT  \\\n",
      "0  Thursday night’s episode of the TV comedy seri...   \n",
      "1  Few clues emerged from President Donald Trump’...   \n",
      "2  Sally “White Widow” Jones – one of the most no...   \n",
      "3  A bet between family members watching a Nation...   \n",
      "4  On July 27, 2009, Stormy Cushing was on her wa...   \n",
      "\n",
      "                                             SUMMARY  \n",
      "0  Thursday night’s episode of the TV comedy seri...  \n",
      "1  Few clues emerged from President Donald Trump’...  \n",
      "2  Sally “White Widow” Jones – one of the most no...  \n",
      "3  A bet between family members watching a Nation...  \n",
      "4  On July 27, 2009, Stormy Cushing was on her wa...  \n",
      "34038\n",
      "Article # 1\n",
      "Tina Fey plays sexual predator for laughs on TV comedy\n",
      "Thursday night’s episode of the TV comedy series \"Great News,\" which revolves around the staff of a cable-news show, tackles sexual harassment in the workplace by a network executive.\n",
      "But the episode's storyline seems to bear similarities to the real-life Harvey Weinstein scandal playing out in Hollywood.\n",
      "In the TV version, however, the gender roles are flipped, with Tina Fey starring as Diana St. Tropez, a boss who sexually harasses men and women following her promotion to head the company, Deadline reported.\n",
      "In the episode, a rising young producer is faced with dilemma about whether to come forward regarding St. Tropez’s inappropriate behavior, USA Today reported.\n",
      "The show draws similarities to bombshell reports by the New York Times and the New Yorker magazine, accusing Hollywood executive Weinstein of sexually harassing women.\n",
      "Thursday night’s episode of the TV comedy series \"Great News,\" which revolves around the staff of a cable-news show, tackles sexual harassment in the workplace by a network executive.\n",
      "\n",
      "But the episode's storyline seems to bear similarities to the real-life Harvey Weinstein scandal playing out in Hollywood.\n",
      "\n",
      "In the TV version, however, the gender roles are flipped, with Tina Fey starring as Diana St. Tropez, a boss who sexually harasses men and women following her promotion to head the company, Deadline reported.\n",
      "\n",
      "In the episode, a rising young producer is faced with dilemma about whether to come forward regarding St. Tropez’s inappropriate behavior, USA Today reported.\n",
      "\n",
      "The show draws similarities to bombshell reports by the New York Times and the New Yorker magazine, accusing Hollywood executive Weinstein of sexually harassing women.\n",
      "\n",
      "But NBC, the network that airs \"Great News,\" says the plot of its show is nothing more than a coincidence with the Weinstein scandal, given the fact that the episode was written last summer and never mentions Weinstein, USA Today reported.\n",
      "\n",
      "The episode title, “Honeypot!” however, was referenced in the New Yorker’s report on Weinstein. The term referred to the 65-year-old executive’s assistants who would attend a meeting, then leave Weinstein alone with a woman, according to the Hollywood Reporter.\n",
      "\n",
      "Fey's old show, \"30 Rock,\" made a crack about Weinstein in a 2012 episode, when Jenna (Jane Krakowski) said she “turned down intercourse with Harvey Weinstein on no less than three occasions.\"\n",
      "\n",
      "Weinstein plans to undergo rehab in Arizona, TMZ reported.\n",
      "\n",
      "Article # 2\n",
      "NAFTA's future remains unclear as talks continue\n",
      "Few clues emerged from President Donald Trump’s meeting with Canadian Prime Minister Justin Trudeau on Wednesday about the uncertain future of the North American Free Trade Agreement (NAFTA).\n",
      "\"We're negotiating a NAFTA deal.\n",
      "It's possible we won't be able to make a deal and it's possible that we will,\" Trump said.\n",
      "Otherwise, I believe you can't negotiate a good deal,\" Trump said.\n",
      "Trudeau will head to Mexico on Thursday to continue talks regarding NAFTA.\n",
      "Few clues emerged from President Donald Trump’s meeting with Canadian Prime Minister Justin Trudeau on Wednesday about the uncertain future of the North American Free Trade Agreement (NAFTA).\n",
      "\n",
      "\"We're negotiating a NAFTA deal. It's time after all of these years and we'll see what happens. It's possible we won't be able to make a deal and it's possible that we will,\" Trump said.\n",
      "\n",
      "Negotiations have struggled to gain momentum as the U.S. Chamber of Commerce cautioned that the Trump administration’s impractical requests could harm the talks.\n",
      "\n",
      "But despite the U.S. threatening to withdraw from the agreement that’s been in effect since 1994, Trudeau remained optimistic that the U.S., Canada and Mexico can reach a \"win-win-win\" solution. Still, he said Canada would be \"ready for anything.\"\n",
      "\n",
      "The fourth round of NAFTA negotiations began Wednesday in Arlington, Va., and will continue through Tuesday.\n",
      "\n",
      "NAFTA eliminated trade barriers between the U.S., Canada and Mexico to generate trade growth. But critics argue it also led to the downfall of U.S. manufacturing as companies moved across the southern border to take advantage of cheaper labor.\n",
      "\n",
      "In order for the tri-lateral trade agreement to remain past its 23rd year, Trump has requested an increase in U.S auto production, more American companies securing government contracts in the NAFTA bloc, and for the agreement to be abolished altogether unless countries agree every few years to extend it. In addition, the administration is seeking eliminating dispute resolution processes.\n",
      "\n",
      "Agriculture Secretary Sonny Perdue detailed some of the main issues with NAFTA, specifically where Canada is reaping more of the benefits than the U.S.\n",
      "\n",
      "“The irritants that we have are primarily with Canada over their dairy management supply program. They are overproducing, creating depressing world prices for milk solids,” Perdue told FOX Business’ Trish Regan on The Intelligence Report. “There is also a wine issue in British Columbia where they are not letting our wines out front where their customers can choose.”\n",
      "\n",
      "Perdue added that there are also issues with poultry access.\n",
      "\n",
      "U.S. Chamber of Commerce President Thomas Donohue called Trump’s proposals “poison pills” for Canada and Mexico, which could result in the death of the agreement, Reuters reported.\n",
      "\n",
      "Donohue co-chaired the U.S.-Mexico CEO conference Wednesday alongside Fedex Freight's CEO Michael Ducker. Guillermo Vogel, a steel company executive, co-chaired the event in Mexico, which included closed-door talks regarding NAFTA with Foreign Minister Luis Videgaray and Economy Minister Idelfonso Guajardo, who are responsible for Mexico’s involvement in the negotiations, Reuters reported.\n",
      "\n",
      "Vogel emphasized the importance of negotiating a good deal, and told Reuters a “bad agreement” would be far worse than “with no NAFTA,” but recognized the end of the pact would be a “lose-lose” situation.\n",
      "\n",
      "Farm groups and agricultural lobbies have urged the Trump administration to keep NAFTA, because if the U.S. were to leave the agreement, the agricultural industry would be slapped with potentially steep tariffs from Canada and Mexico.\n",
      "\n",
      "If negotiations fail to reach a solution, Trump alluded to the possibility of having separate deals with Canada and Mexico.\n",
      "\n",
      "“It's possible we won't be able to reach a deal with one or the other. But in the meantime, we'll make a deal with one,\" the president said.\n",
      "\n",
      "In addition, during an interview with Forbes magazine published Tuesday, Trump appeared to favor eliminating the deal and said he likes “bilateral deals.\"\n",
      "\n",
      "\"I happen to think that NAFTA will have to be terminated if we're going to make it good. Otherwise, I believe you can't negotiate a good deal,\" Trump said.\n",
      "\n",
      "Trudeau will head to Mexico on Thursday to continue talks regarding NAFTA.\n",
      "\n",
      "The Associated Press contributed to this report.\n",
      "\n"
     ]
    }
   ],
   "source": [
    "articles = articles[['TITLE', 'TEXT', 'SUMMARY']]\n",
    "print(len(articles))\n",
    "articles = articles.drop_duplicates()\n",
    "print(len(articles))\n",
    "articles = articles.reset_index(drop=True)\n",
    "\n",
    "\n",
    "print(articles.head())\n",
    "print(len(articles))\n",
    "for i in range(2):\n",
    "    print(\"Article #\", i+1)\n",
    "    print(articles.TITLE[i])\n",
    "    print(articles.SUMMARY[i])\n",
    "    print(articles.TEXT[i])\n",
    "    print()\n",
    "\n",
    "articles.to_csv('data/EnglishArticles.csv')"
   ]
  },
  {
   "cell_type": "markdown",
   "metadata": {},
   "source": [
    "# Clean texts"
   ]
  },
  {
   "cell_type": "code",
   "execution_count": 3,
   "metadata": {},
   "outputs": [
    {
     "name": "stdout",
     "output_type": "stream",
     "text": [
      "(8131, 4)\n",
      "   Unnamed: 0                                              TITLE  \\\n",
      "0           0  The Latest: Blaze in Sierra Nevada destroys do...   \n",
      "1           1  Facebook's Sandberg meets with lawmakers amid ...   \n",
      "2           2  Disney alum Tiffany Thornton defends marriage ...   \n",
      "3           3  A massive hole just opened up in Antarctica's ...   \n",
      "4           4  Mazda patents active rear spoiler design inspi...   \n",
      "\n",
      "                                                TEXT  \\\n",
      "0  The Latest on wildfires in California (all tim...   \n",
      "1  One of Facebook's top executives met Wednesday...   \n",
      "2  Former Disney star Tiffany Thornton is facing ...   \n",
      "3  Thanks to its usefulness as an indicator of ho...   \n",
      "4  Mazda certainly has been on a patent spree as ...   \n",
      "\n",
      "                                             SUMMARY  \n",
      "0  The Latest on wildfires in California (all tim...  \n",
      "1  One of Facebook's top executives met Wednesday...  \n",
      "2  Former Disney star Tiffany Thornton is facing ...  \n",
      "3  Thanks to its usefulness as an indicator of ho...  \n",
      "4  Now, the Japanese automaker has filed to prote...  \n",
      "Unnamed: 0    0\n",
      "TITLE         0\n",
      "TEXT          0\n",
      "SUMMARY       0\n",
      "dtype: int64\n",
      "Texts are cleaned for Classic.\n",
      "Texts are cleaned for BERT.\n",
      "Summaries are cleaned.\n",
      "(8131, 3)\n",
      "                                               TITLE  \\\n",
      "0  The Latest: Blaze in Sierra Nevada destroys do...   \n",
      "1  Facebook's Sandberg meets with lawmakers amid ...   \n",
      "2  Disney alum Tiffany Thornton defends marriage ...   \n",
      "3  A massive hole just opened up in Antarctica's ...   \n",
      "4  Mazda patents active rear spoiler design inspi...   \n",
      "\n",
      "                                        cleaned_text  \\\n",
      "0  latest wildfires california times local 6 10 o...   \n",
      "1  one facebook top executives met wednesday hous...   \n",
      "2  former disney star tiffany thornton facing bac...   \n",
      "3  thanks usefulness indicator badly humans messi...   \n",
      "4  mazda certainly patent spree late reported ast...   \n",
      "\n",
      "                                     cleaned_summary  \n",
      "0  the latest on wildfires in california (all tim...  \n",
      "1  one of facebook s top executives met wednesday...  \n",
      "2  former disney star tiffany thornton is facing ...  \n",
      "3  thanks to its usefulness as an indicator of ho...  \n",
      "4  now, the japanese automaker has filed to prote...  \n",
      "TITLE              0\n",
      "cleaned_text       0\n",
      "cleaned_summary    0\n",
      "dtype: int64\n"
     ]
    }
   ],
   "source": [
    "import pandas as pd\n",
    "from nltk.corpus import stopwords\n",
    "from pickle import dump\n",
    "\n",
    "articles = pd.read_csv('data/EnglishArticles.csv')\n",
    "print(articles.shape)\n",
    "print(articles.head())\n",
    "print(articles.isnull().sum())\n",
    "\n",
    "contractions = {\n",
    "    \"ain't\": \"am not\",\n",
    "    \"aren't\": \"are not\",\n",
    "    \"can't\": \"cannot\",\n",
    "    \"can't've\": \"cannot have\",\n",
    "    \"'cause\": \"because\",\n",
    "    \"could've\": \"could have\",\n",
    "    \"couldn't\": \"could not\",\n",
    "    \"couldn't've\": \"could not have\",\n",
    "    \"didn't\": \"did not\",\n",
    "    \"doesn't\": \"does not\",\n",
    "    \"don't\": \"do not\",\n",
    "    \"hadn't\": \"had not\",\n",
    "    \"hadn't've\": \"had not have\",\n",
    "    \"hasn't\": \"has not\",\n",
    "    \"haven't\": \"have not\",\n",
    "    \"he'd\": \"he would\",\n",
    "    \"he'd've\": \"he would have\",\n",
    "}\n",
    "\n",
    "# nltk.download('stopwords')\n",
    "\n",
    "\n",
    "def clean_text(text, remove_stopwords=True, remove_interpunction=True):\n",
    "    import re\n",
    "\n",
    "    text = text.lower()\n",
    "\n",
    "    text = text.split()\n",
    "    new_text = []\n",
    "\n",
    "    for word in text:\n",
    "        if word in contractions:\n",
    "            new_text.append(contractions[word])\n",
    "        else:\n",
    "            new_text.append(word)\n",
    "\n",
    "    text = \" \".join(new_text)\n",
    "    text = re.sub(r'https?:\\/\\/.*[\\r\\n]*', '', text, flags=re.MULTILINE)\n",
    "    text = re.sub(r'\\<a href', ' ', text)\n",
    "    text = re.sub(r'&amp;', '', text)\n",
    "    if remove_interpunction:\n",
    "        text = re.sub(r'[_\"\\-;%()|+&=*%.,!?:#$@\\[\\]/]', ' ', text)\n",
    "    text = re.sub(r'<br />', ' ', text)\n",
    "    text = re.sub(r'\\'', ' ', text)\n",
    "\n",
    "    if remove_stopwords:\n",
    "        text = text.split()\n",
    "        stops = set(stopwords.words(\"english\"))\n",
    "        text = [w for w in text if not w in stops]\n",
    "        text = \" \".join(text)\n",
    "\n",
    "    return text\n",
    "\n",
    "\n",
    "articles['cleaned_text'] = articles['TEXT'].apply(\n",
    "    lambda text: clean_text(text))\n",
    "print(\"Texts are cleaned for Classic.\")\n",
    "\n",
    "articles['bert_cleaned_text'] = articles['SUMMARY'].apply(\n",
    "    lambda text: clean_text(text, remove_interpunction=True),)\n",
    "print(\"Texts are cleaned for BERT.\")\n",
    "\n",
    "articles['cleaned_summary'] = articles['SUMMARY'].apply(\n",
    "    lambda text: clean_text(text, remove_stopwords=False, remove_interpunction=False),)\n",
    "print(\"Summaries are cleaned.\")\n",
    "\n",
    "articles = articles[['TITLE', 'cleaned_text', 'cleaned_summary']]\n",
    "print(articles.shape)\n",
    "print(articles.head())\n",
    "print(articles.isnull().sum())\n",
    "\n",
    "articles.to_csv('data/CleanedArticles.csv')"
   ]
  },
  {
   "cell_type": "markdown",
   "metadata": {},
   "source": [
    "## Split data"
   ]
  },
  {
   "cell_type": "code",
   "execution_count": 4,
   "metadata": {},
   "outputs": [
    {
     "name": "stdout",
     "output_type": "stream",
     "text": [
      "(8131, 4)\n",
      "   Unnamed: 0                                              TITLE  \\\n",
      "0           0  The Latest: Blaze in Sierra Nevada destroys do...   \n",
      "1           1  Facebook's Sandberg meets with lawmakers amid ...   \n",
      "2           2  Disney alum Tiffany Thornton defends marriage ...   \n",
      "3           3  A massive hole just opened up in Antarctica's ...   \n",
      "4           4  Mazda patents active rear spoiler design inspi...   \n",
      "\n",
      "                                        cleaned_text  \\\n",
      "0  latest wildfires california times local 6 10 o...   \n",
      "1  one facebook top executives met wednesday hous...   \n",
      "2  former disney star tiffany thornton facing bac...   \n",
      "3  thanks usefulness indicator badly humans messi...   \n",
      "4  mazda certainly patent spree late reported ast...   \n",
      "\n",
      "                                     cleaned_summary  \n",
      "0  the latest on wildfires in california (all tim...  \n",
      "1  one of facebook s top executives met wednesday...  \n",
      "2  former disney star tiffany thornton is facing ...  \n",
      "3  thanks to its usefulness as an indicator of ho...  \n",
      "4  now, the japanese automaker has filed to prote...  \n",
      "Unnamed: 0         0\n",
      "TITLE              0\n",
      "cleaned_text       0\n",
      "cleaned_summary    0\n",
      "dtype: int64\n"
     ]
    }
   ],
   "source": [
    "import pandas as pd\n",
    "from sklearn.model_selection import train_test_split\n",
    "import numpy as np\n",
    "\n",
    "articles = pd.read_csv('data/CleanedArticles.csv')\n",
    "print(articles.shape)\n",
    "print(articles.head())\n",
    "print(articles.isnull().sum())\n",
    "\n",
    "articles_train, articles_test = train_test_split(\n",
    "    articles[['TITLE', 'cleaned_text', 'cleaned_summary']], test_size=0.33, random_state=33)\n",
    "\n",
    "X_train, X_test, names = [], [], []\n",
    "\n",
    "for article_title, article_summary, article_content in articles_train.values:\n",
    "    X_train.append(article_summary)\n",
    "\n",
    "for article_title, article_summary, article_content in articles_test.values:\n",
    "    X_test.append(article_summary)\n",
    "    names.append(article_title)\n",
    "    \n",
    "np.save('bert/bert_train_texts', np.array(X_train))\n",
    "np.save('bert/bert_test_texts', np.array(X_test))\n",
    "np.save('bert/names', names)\n"
   ]
  },
  {
   "cell_type": "markdown",
   "metadata": {},
   "source": [
    "# Classic vectorizers"
   ]
  },
  {
   "cell_type": "code",
   "execution_count": 5,
   "metadata": {},
   "outputs": [],
   "source": [
    "from nltk.stem import WordNetLemmatizer\n",
    "from nltk.tokenize import word_tokenize\n",
    "\n",
    "# nltk.download('wordnet')\n",
    "# nltk.download('punkt')\n",
    "wordnet_lemmatizer = WordNetLemmatizer()\n",
    "\n",
    "\n",
    "def tokenizer(text):\n",
    "    tktext = word_tokenize(text)\n",
    "    lemmas = [wordnet_lemmatizer.lemmatize(t) for t in tktext]\n",
    "    return lemmas\n",
    "\n",
    "articles_train_contents = articles_train['cleaned_text'].values\n",
    "articles_test_contents = articles_test['cleaned_text'].values"
   ]
  },
  {
   "cell_type": "markdown",
   "metadata": {},
   "source": [
    "## Bag of Words"
   ]
  },
  {
   "cell_type": "code",
   "execution_count": 6,
   "metadata": {},
   "outputs": [],
   "source": [
    "from sklearn.feature_extraction.text import CountVectorizer\n",
    "from scipy.sparse import save_npz\n",
    "\n",
    "bow_vectorizer = CountVectorizer(tokenizer=tokenizer,\n",
    "                             ngram_range=(1, 2),\n",
    "                             analyzer='word',\n",
    "                             max_features=None)\n",
    "\n",
    "bow_train_vectors = bow_vectorizer.fit_transform(articles_train['cleaned_text'])\n",
    "bow_test_vectors = bow_vectorizer.transform(articles_test['cleaned_text'])\n",
    "\n",
    "save_npz(\"classic/bow_train_vector.npz\", bow_train_vectors)\n",
    "save_npz(\"classic/bow_test_vector.npz\", bow_test_vectors)"
   ]
  },
  {
   "cell_type": "markdown",
   "metadata": {},
   "source": [
    "## TF-IDF"
   ]
  },
  {
   "cell_type": "code",
   "execution_count": 7,
   "metadata": {},
   "outputs": [],
   "source": [
    "from sklearn.feature_extraction.text import TfidfVectorizer\n",
    "from scipy.sparse import save_npz\n",
    "\n",
    "tfidf_vectorizer = TfidfVectorizer(tokenizer=tokenizer, ngram_range=(\n",
    "    1, 2), analyzer='word', max_features=None)\n",
    "\n",
    "tfidf_train_vectors = tfidf_vectorizer.fit_transform(articles_train['cleaned_text'])\n",
    "tfidf_test_vectors = tfidf_vectorizer.transform(articles_test['cleaned_text'])\n",
    "\n",
    "save_npz(\"classic/tfidf_train_vector.npz\", tfidf_train_vectors)\n",
    "save_npz(\"classic/tfidf_test_vector.npz\", tfidf_test_vectors)"
   ]
  },
  {
   "cell_type": "markdown",
   "metadata": {},
   "source": [
    "## Word2Vec"
   ]
  },
  {
   "cell_type": "code",
   "execution_count": 115,
   "metadata": {},
   "outputs": [
    {
     "name": "stdout",
     "output_type": "stream",
     "text": [
      "'computer'\t'laptop'\t0.66\n",
      "'computer'\t'keyboard'\t0.40\n",
      "'computer'\t'smartphone'\t0.33\n",
      "'computer'\t'cereal'\t0.17\n",
      "'computer'\t'anarchy'\t0.04\n"
     ]
    }
   ],
   "source": [
    "import gensim.downloader as api\n",
    "word2vec_model = api.load('word2vec-google-news-300')\n",
    "\n",
    "pairs = [\n",
    "    ('computer', 'laptop'),  \n",
    "    ('computer', 'keyboard'),\n",
    "    ('computer', 'smartphone'),\n",
    "    ('computer', 'cereal'),\n",
    "    ('computer', 'anarchy'),\n",
    "]\n",
    "for w1, w2 in pairs:\n",
    "    print('%r\\t%r\\t%.2f' % (w1, w2, wv.similarity(w1, w2)))\n",
    "    \n",
    "word2vec_model.save('classic/word2vec_model')"
   ]
  },
  {
   "cell_type": "code",
   "execution_count": 116,
   "metadata": {},
   "outputs": [],
   "source": [
    "from gensim.models import Word2Vec\n",
    "import numpy as np\n",
    "\n",
    "def word2vec_vectorize_text(text):\n",
    "    vector = []\n",
    "    for word in tokenizer(text):\n",
    "        try:\n",
    "            vector.append(word2vec_model[word])\n",
    "        except KeyError:\n",
    "            pass\n",
    "    return np.average(vector)\n",
    "\n",
    "def word2vec_vectorizer(texts):\n",
    "     return np.array([word2vec_vectorize_text(content) for content in texts])\n",
    "\n",
    "word2vec_train_vectors = word2vec_vectorizer(articles_train_contents).reshape(-1, 1)\n",
    "word2vec_test_vectors = word2vec_vectorizer(articles_test_contents).reshape(-1, 1)\n",
    "\n",
    "np.save('classic/word2vec_train_vector', word2vec_train_vectors)\n",
    "np.save('classic/word2vec_test_vector', word2vec_test_vectors)"
   ]
  },
  {
   "cell_type": "markdown",
   "metadata": {},
   "source": [
    "## Doc2Vec"
   ]
  },
  {
   "cell_type": "code",
   "execution_count": 163,
   "metadata": {},
   "outputs": [],
   "source": [
    "from gensim.test.utils import common_texts\n",
    "from gensim.models.doc2vec import Doc2Vec, TaggedDocument\n",
    "import numpy as np\n",
    "\n",
    "documents = [TaggedDocument(doc, [i]) for i, doc in enumerate(articles_train_contents)]\n",
    "doc2vec_model = Doc2Vec(documents,\n",
    "                        vector_size=300,\n",
    "                        window=2, \n",
    "                        min_count=0, \n",
    "                        workers=4, \n",
    "                        epochs=40, \n",
    "                        dm=0, \n",
    "                        alpha=0.025, \n",
    "                        min_alpha=0.025,\n",
    ")\n",
    "\n",
    "def doc2vec_vectorizer(texts):\n",
    "    return np.array([doc2vec_model.infer_vector(tokenizer(text)) for text in texts])\n",
    "\n",
    "doc2vec_train_vectors = doc2vec_vectorizer(articles_train_contents)\n",
    "doc2vec_test_vectors = doc2vec_vectorizer(articles_test_contents)\n",
    "\n",
    "np.save('classic/doc2vec_train_vector', doc2vec_train_vectors)\n",
    "np.save('classic/doc2vec_test_vector', doc2vec_test_vectors)"
   ]
  },
  {
   "cell_type": "markdown",
   "metadata": {},
   "source": [
    "# BERT Vectorizer"
   ]
  },
  {
   "cell_type": "code",
   "execution_count": 10,
   "metadata": {},
   "outputs": [
    {
     "name": "stdout",
     "output_type": "stream",
     "text": [
      "WARNING:tensorflow:From /Library/Frameworks/Python.framework/Versions/3.7/lib/python3.7/site-packages/bert_serving/server/helper.py:184: The name tf.logging.set_verbosity is deprecated. Please use tf.compat.v1.logging.set_verbosity instead.\n",
      "\n",
      "WARNING:tensorflow:From /Library/Frameworks/Python.framework/Versions/3.7/lib/python3.7/site-packages/bert_serving/server/helper.py:184: The name tf.logging.ERROR is deprecated. Please use tf.compat.v1.logging.ERROR instead.\n",
      "\n"
     ]
    },
    {
     "name": "stderr",
     "output_type": "stream",
     "text": [
      "I:\u001b[36mGRAPHOPT\u001b[0m:[gra:opt: 52]:model config: content/bert/bert_config.json\n",
      "I:\u001b[36mGRAPHOPT\u001b[0m:[gra:opt: 55]:checkpoint: content/bert/bert_model.ckpt\n",
      "I:\u001b[36mGRAPHOPT\u001b[0m:[gra:opt: 59]:build graph...\n",
      "I:\u001b[36mGRAPHOPT\u001b[0m:[gra:opt:128]:load parameters from checkpoint...\n",
      "I:\u001b[36mGRAPHOPT\u001b[0m:[gra:opt:132]:optimize...\n",
      "I:\u001b[36mGRAPHOPT\u001b[0m:[gra:opt:140]:freeze...\n",
      "I:\u001b[36mGRAPHOPT\u001b[0m:[gra:opt:145]:write graph to a tmp file: /Users/aksel/article-recommendation/content/graph/tmpkce50am1\n"
     ]
    },
    {
     "name": "stdout",
     "output_type": "stream",
     "text": [
      "Serialized graph to content/graph/extractor.pbtxt\n"
     ]
    }
   ],
   "source": [
    "import os\n",
    "import tensorflow as tf\n",
    "\n",
    "from bert_serving.server.graph import optimize_graph\n",
    "from bert_serving.server.helper import get_args_parser\n",
    "\n",
    "\n",
    "MODEL_DIR = 'content/bert/'  # @param {type:\"string\"}\n",
    "GRAPH_DIR = 'content/graph/'  # @param {type:\"string\"}\n",
    "GRAPH_OUT = 'extractor.pbtxt'  # @param {type:\"string\"}\n",
    "GPU_MFRAC = 0.2  # @param {type:\"string\"}\n",
    "\n",
    "POOL_STRAT = 'REDUCE_MEAN'  # @param {type:\"string\"}\n",
    "POOL_LAYER = \"-2\"  # @param {type:\"string\"}\n",
    "SEQ_LEN = \"512\"  # @param {type:\"string\"}\n",
    "\n",
    "tf.gfile.MkDir(GRAPH_DIR)\n",
    "\n",
    "parser = get_args_parser()\n",
    "carg = parser.parse_args(args=['-model_dir', MODEL_DIR,\n",
    "                               \"-graph_tmp_dir\", GRAPH_DIR,\n",
    "                               '-max_seq_len', str(SEQ_LEN),\n",
    "                               '-pooling_layer', str(POOL_LAYER),\n",
    "                               '-pooling_strategy', POOL_STRAT,\n",
    "                               '-gpu_memory_fraction', str(GPU_MFRAC)])\n",
    "\n",
    "tmpfi_name, config = optimize_graph(carg)\n",
    "graph_fout = os.path.join(GRAPH_DIR, GRAPH_OUT)\n",
    "\n",
    "tf.gfile.Rename(\n",
    "    tmpfi_name,\n",
    "    graph_fout,\n",
    "    overwrite=True\n",
    ")\n",
    "print(\"Serialized graph to {}\".format(graph_fout))"
   ]
  },
  {
   "cell_type": "code",
   "execution_count": 11,
   "metadata": {},
   "outputs": [
    {
     "name": "stderr",
     "output_type": "stream",
     "text": [
      "Using temporary folder as model directory: /var/folders/td/pst9q2d11k94l8qm918t_9bc0000gp/T/tmpg1zadk2k\n"
     ]
    }
   ],
   "source": [
    "from bert_serving.server.bert.extract_features import convert_lst_to_features\n",
    "from bert_serving.server.bert.tokenization import FullTokenizer\n",
    "from tensorflow.python.estimator.model_fn import EstimatorSpec\n",
    "from tensorflow.python.estimator.estimator import Estimator\n",
    "import logging\n",
    "import os\n",
    "import tensorflow as tf\n",
    "\n",
    "log = logging.getLogger('tensorflow')\n",
    "log.setLevel(logging.INFO)\n",
    "log.handlers = []\n",
    "\n",
    "GRAPH_PATH = \"content/graph/extractor.pbtxt\"  # @param {type:\"string\"}\n",
    "VOCAB_PATH = \"content/bert/vocab.txt\"  # @param {type:\"string\"}\n",
    "\n",
    "SEQ_LEN = 512  # @param {type:\"integer\"}\n",
    "INPUT_NAMES = ['input_ids', 'input_mask', 'input_type_ids']\n",
    "bert_tokenizer = FullTokenizer(VOCAB_PATH)\n",
    "\n",
    "\n",
    "def build_feed_dict(texts):\n",
    "    text_features = list(convert_lst_to_features(\n",
    "        texts, SEQ_LEN, SEQ_LEN,\n",
    "        bert_tokenizer, log, False, False))\n",
    "\n",
    "    target_shape = (len(texts), -1)\n",
    "\n",
    "    feed_dict = {}\n",
    "    for iname in INPUT_NAMES:\n",
    "        features_i = np.array([getattr(f, iname) for f in text_features])\n",
    "        features_i = features_i.reshape(target_shape)\n",
    "        features_i = features_i.astype(\"int32\")\n",
    "        feed_dict[iname] = features_i\n",
    "\n",
    "    return feed_dict\n",
    "\n",
    "\n",
    "def build_input_fn(container):\n",
    "\n",
    "    def gen():\n",
    "        while True:\n",
    "            try:\n",
    "                yield build_feed_dict(container.get())\n",
    "            except:\n",
    "                yield build_feed_dict(container.get())\n",
    "\n",
    "    def input_fn():\n",
    "        return tf.data.Dataset.from_generator(\n",
    "            gen,\n",
    "            output_types={iname: tf.int32 for iname in INPUT_NAMES},\n",
    "            output_shapes={iname: (None, None) for iname in INPUT_NAMES})\n",
    "    return input_fn\n",
    "\n",
    "def model_fn(features, mode):\n",
    "    with tf.gfile.GFile(GRAPH_PATH, 'rb') as f:\n",
    "        graph_def = tf.GraphDef()\n",
    "        graph_def.ParseFromString(f.read())\n",
    "\n",
    "    output = tf.import_graph_def(graph_def,\n",
    "                                 input_map={k + ':0': features[k]\n",
    "                                            for k in INPUT_NAMES},\n",
    "                                 return_elements=['final_encodes:0'])\n",
    "\n",
    "    return EstimatorSpec(mode=mode, predictions={'output': output[0]})\n",
    "\n",
    "\n",
    "estimator = Estimator(model_fn=model_fn)"
   ]
  },
  {
   "cell_type": "code",
   "execution_count": 12,
   "metadata": {},
   "outputs": [],
   "source": [
    "from tensorflow.keras.utils import Progbar\n",
    "\n",
    "class DataContainer:\n",
    "    def __init__(self):\n",
    "        self._texts = None\n",
    "\n",
    "    def set(self, texts):\n",
    "        if type(texts) is str:\n",
    "            texts = [texts]\n",
    "        self._texts = texts\n",
    "\n",
    "    def get(self):\n",
    "        return self._texts\n",
    "\n",
    "\n",
    "def batch(iterable, n=1):\n",
    "    l = len(iterable)\n",
    "    for ndx in range(0, l, n):\n",
    "        yield iterable[ndx:min(ndx + n, l)]\n",
    "\n",
    "\n",
    "def build_vectorizer(_estimator, _input_fn_builder, batch_size=128):\n",
    "    container = DataContainer()\n",
    "    predict_fn = _estimator.predict(_input_fn_builder(\n",
    "        container), yield_single_examples=False)\n",
    "\n",
    "    def vectorize(text, verbose=False):\n",
    "        x = []\n",
    "        bar = Progbar(len(text))\n",
    "        for text_batch in batch(text, batch_size):\n",
    "            container.set(text_batch)\n",
    "            x.append(next(predict_fn)['output'])\n",
    "            if verbose:\n",
    "                bar.add(len(text_batch))\n",
    "        r = np.vstack(x)\n",
    "        return r\n",
    "    return vectorize\n"
   ]
  },
  {
   "cell_type": "code",
   "execution_count": 13,
   "metadata": {},
   "outputs": [
    {
     "name": "stderr",
     "output_type": "stream",
     "text": [
      "From /Library/Frameworks/Python.framework/Versions/3.7/lib/python3.7/site-packages/tensorflow_core/python/ops/array_ops.py:1475: where (from tensorflow.python.ops.array_ops) is deprecated and will be removed in a future version.\n",
      "Instructions for updating:\n",
      "Use tf.where in 2.0, which has the same broadcast rule as np.where\n"
     ]
    },
    {
     "name": "stdout",
     "output_type": "stream",
     "text": [
      "5447/5447 [==============================] - 8412s 2s/step\n",
      "Train set vectorized.\n",
      "2684/2684 [==============================] - 4087s 2s/step\n",
      "Test set vectorized.\n"
     ]
    }
   ],
   "source": [
    "bert_vectorizer = build_vectorizer(estimator, build_input_fn)\n",
    "\n",
    "bert_train_vectors = bert_vectorizer(X_train, verbose=True)\n",
    "print('Train set vectorized.')\n",
    "np.save('bert/train_vector', bert_train_vectors)\n",
    "\n",
    "bert_test_vectors = bert_vectorizer(X_test, verbose=True)\n",
    "print('Test set vectorized.')\n",
    "np.save('bert/test_vector', bert_test_vectors)\n"
   ]
  },
  {
   "cell_type": "markdown",
   "metadata": {},
   "source": [
    "# Recommender"
   ]
  },
  {
   "cell_type": "code",
   "execution_count": 14,
   "metadata": {},
   "outputs": [],
   "source": [
    "from pickle import dump, load\n",
    "import numpy as np\n",
    "from scipy import sparse\n",
    "from sklearn.neighbors import NearestNeighbors\n",
    "import time"
   ]
  },
  {
   "cell_type": "code",
   "execution_count": 15,
   "metadata": {},
   "outputs": [],
   "source": [
    "N_NEIGHBORS = 3\n",
    "\n",
    "names = np.load('bert/names.npy').tolist()"
   ]
  },
  {
   "cell_type": "code",
   "execution_count": 16,
   "metadata": {},
   "outputs": [],
   "source": [
    "def fit_knn(vector):\n",
    "    t0 = time.time()\n",
    "    print('Fitting classic model...')\n",
    "    classic_nn = NearestNeighbors(n_neighbors=N_NEIGHBORS)\n",
    "    classic_nn.fit(vector)\n",
    "    t = time.time() - t0\n",
    "    print(f'Fitting classic model took {t} s')\n",
    "    return classic_nn"
   ]
  },
  {
   "cell_type": "code",
   "execution_count": 59,
   "metadata": {},
   "outputs": [],
   "source": [
    "def buildArticleRecommender(model, article_titles, vectorized_articles):\n",
    "    def recommend(query, is_verbose = True):\n",
    "        try:\n",
    "            article_idx = article_titles.index(query)\n",
    "            idx = model.kneighbors(vectorized_articles[article_idx].reshape(1, -1), return_distance=False)[0]\n",
    "            if is_verbose:\n",
    "                for i in idx:\n",
    "                    print(i, article_titles[i])\n",
    "        except ValueError:\n",
    "            print(f\"{query} not found in article database. Suggestions:\")\n",
    "            for i, name in enumerate(article_titles):\n",
    "                if query.lower() in name.lower():\n",
    "                    print(i, name)\n",
    "    return recommend"
   ]
  },
  {
   "cell_type": "markdown",
   "metadata": {},
   "source": [
    "## BoW Model"
   ]
  },
  {
   "cell_type": "code",
   "execution_count": 60,
   "metadata": {},
   "outputs": [
    {
     "name": "stdout",
     "output_type": "stream",
     "text": [
      "Fitting classic model...\n",
      "Fitting classic model took 0.00481104850769043 s\n",
      "BoW model saved\n"
     ]
    }
   ],
   "source": [
    "#bow_train_vectors = sparse.load_npz('classic/bow_train_vector.npz')\n",
    "bow_test_vectors = sparse.load_npz('classic/bow_test_vector.npz')\n",
    "\n",
    "bow_knn = fit_knn(bow_test_vectors)\n",
    "\n",
    "dump(bow_knn, open('classic/bow_knn.sav', 'wb'))\n",
    "print('BoW model saved')"
   ]
  },
  {
   "cell_type": "code",
   "execution_count": 61,
   "metadata": {},
   "outputs": [
    {
     "name": "stdout",
     "output_type": "stream",
     "text": [
      "Building recommender for BoW\n"
     ]
    }
   ],
   "source": [
    "print('Building recommender for BoW')\n",
    "bowRecommend = buildArticleRecommender(bow_knn, names, bow_test_vectors)"
   ]
  },
  {
   "cell_type": "markdown",
   "metadata": {},
   "source": [
    "## TF-IDF Model"
   ]
  },
  {
   "cell_type": "code",
   "execution_count": 62,
   "metadata": {},
   "outputs": [
    {
     "name": "stdout",
     "output_type": "stream",
     "text": [
      "Fitting classic model...\n",
      "Fitting classic model took 0.0010852813720703125 s\n",
      "TF-IDF model saved\n"
     ]
    }
   ],
   "source": [
    "#tfidf_train_vectors = sparse.load_npz('classic/tfidf_train_vector.npz')\n",
    "tfidf_test_vectors = sparse.load_npz('classic/tfidf_test_vector.npz')\n",
    "\n",
    "tfidf_knn = fit_knn(tfidf_test_vectors)\n",
    "\n",
    "dump(tfidf_knn, open('classic/tfidf_knn.sav', 'wb'))\n",
    "print('TF-IDF model saved')"
   ]
  },
  {
   "cell_type": "code",
   "execution_count": 63,
   "metadata": {},
   "outputs": [
    {
     "name": "stdout",
     "output_type": "stream",
     "text": [
      "Building recommender for TF-IDF\n"
     ]
    }
   ],
   "source": [
    "print('Building recommender for TF-IDF')\n",
    "tfidfRecommend = buildArticleRecommender(tfidf_knn, names, tfidf_test_vectors)"
   ]
  },
  {
   "cell_type": "markdown",
   "metadata": {},
   "source": [
    "## Word2Vec Model"
   ]
  },
  {
   "cell_type": "code",
   "execution_count": 101,
   "metadata": {},
   "outputs": [
    {
     "name": "stdout",
     "output_type": "stream",
     "text": [
      "Fitting classic model...\n",
      "Fitting classic model took 0.0008912086486816406 s\n",
      "Word2Vec model saved\n"
     ]
    }
   ],
   "source": [
    "#word2vec_train_vectors = np.load('classic/word2vec_train_vector.npy', allow_pickle=True)\n",
    "#word2vec_test_vectors = np.load('classic/word2vec_test_vector.npy', allow_pickle=True)\n",
    "\n",
    "word2vec_knn = fit_knn(word2vec_test_vectors)\n",
    "\n",
    "dump(word2vec_knn, open('classic/word2vec_knn.sav', 'wb'))\n",
    "print('Word2Vec model saved')"
   ]
  },
  {
   "cell_type": "code",
   "execution_count": 102,
   "metadata": {},
   "outputs": [
    {
     "name": "stdout",
     "output_type": "stream",
     "text": [
      "Building recommender for Word2Vec\n"
     ]
    }
   ],
   "source": [
    "print('Building recommender for Word2Vec')\n",
    "word2vecRecommend = buildArticleRecommender(word2vec_knn, names, word2vec_test_vectors)"
   ]
  },
  {
   "cell_type": "markdown",
   "metadata": {},
   "source": [
    "## Doc2Vec Model"
   ]
  },
  {
   "cell_type": "code",
   "execution_count": 164,
   "metadata": {},
   "outputs": [
    {
     "name": "stdout",
     "output_type": "stream",
     "text": [
      "Fitting classic model...\n",
      "Fitting classic model took 0.017261028289794922 s\n",
      "Doc2Vec model saved\n"
     ]
    }
   ],
   "source": [
    "#doc2vec_train_vectors = np.load('classic/doc2vec_train_vector.npy')\n",
    "doc2vec_test_vectors = np.load('classic/doc2vec_test_vector.npy')\n",
    "\n",
    "doc2vec_knn = fit_knn(doc2vec_test_vectors)\n",
    "\n",
    "dump(doc2vec_knn, open('classic/doc2vec_knn.sav', 'wb'))\n",
    "print('Doc2Vec model saved')"
   ]
  },
  {
   "cell_type": "code",
   "execution_count": 165,
   "metadata": {},
   "outputs": [
    {
     "name": "stdout",
     "output_type": "stream",
     "text": [
      "Building recommender for Doc2Vec\n"
     ]
    }
   ],
   "source": [
    "print('Building recommender for Doc2Vec')\n",
    "doc2vecRecommend = buildArticleRecommender(doc2vec_knn, names, doc2vec_test_vectors)"
   ]
  },
  {
   "cell_type": "markdown",
   "metadata": {},
   "source": [
    "## BERT Model"
   ]
  },
  {
   "cell_type": "code",
   "execution_count": 68,
   "metadata": {},
   "outputs": [
    {
     "name": "stdout",
     "output_type": "stream",
     "text": [
      "Fitting classic model...\n",
      "Fitting classic model took 0.08188915252685547 s\n",
      "BERT model saved\n"
     ]
    }
   ],
   "source": [
    "#bert_train_vectors = np.load('bert/train_vector.npy')\n",
    "bert_test_vectors = np.load('bert/test_vector.npy')\n",
    "\n",
    "bert_knn = fit_knn(bert_test_vectors)\n",
    "\n",
    "dump(bert_knn, open('bert/knn.sav', 'wb'))\n",
    "print('BERT model saved')"
   ]
  },
  {
   "cell_type": "code",
   "execution_count": 69,
   "metadata": {},
   "outputs": [
    {
     "name": "stdout",
     "output_type": "stream",
     "text": [
      "Building recommender for BERT\n"
     ]
    }
   ],
   "source": [
    "print('Building recommender for BERT')\n",
    "bertRecommend = buildArticleRecommender(bert_knn, names, bert_test_vectors)"
   ]
  },
  {
   "cell_type": "code",
   "execution_count": 70,
   "metadata": {},
   "outputs": [
    {
     "name": "stdout",
     "output_type": "stream",
     "text": [
      "2684\n",
      "Article title: Emma Thompson slams Harvey Weinstein\n",
      "Bert recommendations: \n",
      "1479 Las Vegas security guard breaks silence\n",
      "2534 George W. Bush: White supremacy is blasphemy\n",
      "295 'SNL' roasts Moore over abuse allegations\n",
      "Finding recommendations took 0.0015120506286621094 s\n",
      "Classic recommendations\n",
      "BoW:\n",
      "49 Emma Thompson slams Harvey Weinstein\n",
      "156 N. Korea: Don't care what 'mad dog' Trump says\n",
      "195 Jeff Sessions testifies: Live updates\n",
      "Finding recommendations took 0.03725409507751465 s\n",
      "TF-IDF:\n",
      "49 Emma Thompson slams Harvey Weinstein\n",
      "156 N. Korea: Don't care what 'mad dog' Trump says\n",
      "195 Jeff Sessions testifies: Live updates\n",
      "Finding recommendations took 0.014623880386352539 s\n",
      "Word2Vec:\n",
      "266 Report: Russians learned from 'House of Cards'\n",
      "1111 2017 CMA Awards red carpet\n",
      "1036 Internet bashes the wrong George Papadopoulos\n",
      "Finding recommendations took 0.0016219615936279297 s\n",
      "Doc2Vec:\n",
      "2348 Manafort, Gates put under house arrest\n",
      "1513 Mueller interviews top WH aide Stephen Miller\n",
      "1487 German passenger plane buzzes control tower\n",
      "Finding recommendations took 0.0007841587066650391 s\n"
     ]
    }
   ],
   "source": [
    "test_title = names[49]\n",
    "\n",
    "def timeRecommendation(recommender):\n",
    "    t0 = time.time()\n",
    "    recommender(test_title)\n",
    "    t = time.time() - t0\n",
    "    print(f'Finding recommendations took {t} s')\n",
    "\n",
    "print(len(names))\n",
    "print(\"Article title: \"+ test_title)\n",
    "print(\"Bert recommendations: \")\n",
    "timeRecommendation(bertRecommend)\n",
    "\n",
    "print(\"Classic recommendations\")\n",
    "print(\"BoW:\")\n",
    "timeRecommendation(bowRecommend)\n",
    "\n",
    "print(\"TF-IDF:\")\n",
    "timeRecommendation(tfidfRecommend)\n",
    "\n",
    "print(\"Word2Vec:\")\n",
    "timeRecommendation(word2vecRecommend)\n",
    "\n",
    "print(\"Doc2Vec:\")\n",
    "timeRecommendation(doc2vecRecommend)"
   ]
  },
  {
   "cell_type": "markdown",
   "metadata": {},
   "source": [
    "# Evaluation"
   ]
  },
  {
   "cell_type": "markdown",
   "metadata": {},
   "source": [
    "## Time"
   ]
  },
  {
   "cell_type": "code",
   "execution_count": 175,
   "metadata": {},
   "outputs": [
    {
     "data": {
      "image/png": "[encoded data removed]",
      "text/plain": [
       "<Figure size 432x288 with 1 Axes>"
      ]
     },
     "metadata": {
      "needs_background": "light"
     },
     "output_type": "display_data"
    }
   ],
   "source": [
    "import matplotlib.pyplot as pyplot\n",
    "\n",
    "def time_recommendation(recommender, names, count):\n",
    "    xs = range(0, count)\n",
    "    ts = []\n",
    "    for i in xs:\n",
    "        t0 = time.time()\n",
    "        recommender(names[i], is_verbose=False)\n",
    "        t1 = time.time() - t0\n",
    "        ts.append(t1 * 1000)\n",
    "        \n",
    "    return ts\n",
    "\n",
    "def time_and_plot(recommenders, names, count):\n",
    "    fig = pyplot.figure()\n",
    "    ax = fig.add_subplot(1, 1, 1)\n",
    "    labels, ys = [], []\n",
    "    for name, recommender in recommenders:\n",
    "        labels.append(name)\n",
    "        ys.append(np.average(time_recommendation(recommender, names, count)))\n",
    "    ax.bar(labels, ys, 0.35)\n",
    "    ax.set_yscale('log')\n",
    "    pyplot.xlabel('time[ms]')\n",
    "    pyplot.ylabel('Recommender')\n",
    "    pyplot.show()\n",
    "\n",
    "recommenders = [\n",
    "    ['BERT', bertRecommend],\n",
    "    ['BoW', bowRecommend],\n",
    "    ['TF-IFD', tfidfRecommend],\n",
    "    ['Word2Vec', word2vecRecommend],\n",
    "    ['Doc2Vec', doc2vecRecommend]\n",
    "]\n",
    "\n",
    "\n",
    "time_and_plot(recommenders, names, 1500)"
   ]
  },
  {
   "cell_type": "code",
   "execution_count": 174,
   "metadata": {},
   "outputs": [
    {
     "name": "stdout",
     "output_type": "stream",
     "text": [
      "BERT recommender\n",
      "Fitting took: 194.76079940795898 ms\n",
      "Fitting took: 61.31601333618164 ms\n",
      "Fitting took: 59.26203727722168 ms\n",
      "Fitting took: 62.10780143737793 ms\n",
      "Fitting took: 59.6158504486084 ms\n"
     ]
    },
    {
     "data": {
      "image/png": "[encoded data removed]",
      "text/plain": [
       "<Figure size 432x288 with 1 Axes>"
      ]
     },
     "metadata": {
      "needs_background": "light"
     },
     "output_type": "display_data"
    },
    {
     "name": "stdout",
     "output_type": "stream",
     "text": [
      "BoW recommender\n",
      "Fitting took: 48.944711685180664 ms\n",
      "Fitting took: 0.9210109710693359 ms\n",
      "Fitting took: 1.0831356048583984 ms\n",
      "Fitting took: 0.9257793426513672 ms\n",
      "Fitting took: 1.2481212615966797 ms\n"
     ]
    },
    {
     "data": {
      "image/png": "[encoded data removed]",
      "text/plain": [
       "<Figure size 432x288 with 1 Axes>"
      ]
     },
     "metadata": {
      "needs_background": "light"
     },
     "output_type": "display_data"
    },
    {
     "name": "stdout",
     "output_type": "stream",
     "text": [
      "TF-IDF recommender\n",
      "Fitting took: 64.59808349609375 ms\n",
      "Fitting took: 1.499176025390625 ms\n",
      "Fitting took: 1.302957534790039 ms\n",
      "Fitting took: 1.1551380157470703 ms\n",
      "Fitting took: 1.4278888702392578 ms\n"
     ]
    },
    {
     "data": {
      "image/png": "[encoded data removed]",
      "text/plain": [
       "<Figure size 432x288 with 1 Axes>"
      ]
     },
     "metadata": {
      "needs_background": "light"
     },
     "output_type": "display_data"
    },
    {
     "name": "stdout",
     "output_type": "stream",
     "text": [
      "Word2Vec recommender\n",
      "Fitting took: 1.2578964233398438 ms\n",
      "Fitting took: 0.5769729614257812 ms\n",
      "Fitting took: 0.7600784301757812 ms\n",
      "Fitting took: 0.5581378936767578 ms\n",
      "Fitting took: 0.49495697021484375 ms\n"
     ]
    },
    {
     "data": {
      "image/png": "[encoded data removed]",
      "text/plain": [
       "<Figure size 432x288 with 1 Axes>"
      ]
     },
     "metadata": {
      "needs_background": "light"
     },
     "output_type": "display_data"
    },
    {
     "name": "stdout",
     "output_type": "stream",
     "text": [
      "Doc2Vec recommender\n",
      "Fitting took: 40.27581214904785 ms\n",
      "Fitting took: 10.082006454467773 ms\n",
      "Fitting took: 9.567022323608398 ms\n",
      "Fitting took: 9.048938751220703 ms\n",
      "Fitting took: 9.334087371826172 ms\n"
     ]
    },
    {
     "data": {
      "image/png": "[encoded data removed]",
      "text/plain": [
       "<Figure size 432x288 with 1 Axes>"
      ]
     },
     "metadata": {
      "needs_background": "light"
     },
     "output_type": "display_data"
    }
   ],
   "source": [
    "import matplotlib.pyplot as pyplot\n",
    "\n",
    "def time_nn(vectors, neighbors):\n",
    "    fitting_start = time.time()\n",
    "    nn = NearestNeighbors(n_neighbors=neighbors)\n",
    "    nn.fit(vectors)\n",
    "    fitting_end = time.time() - fitting_start\n",
    "    ts = []\n",
    "    \n",
    "    for vector in vectors:\n",
    "        t0 = time.time()\n",
    "        nn.kneighbors(vector.reshape(1, -1), return_distance=False)\n",
    "        t1 = time.time() - t0\n",
    "        ts.append(t1 * 1000)\n",
    "    return fitting_end, ts\n",
    "\n",
    "def plot_recommender_times(vectors, i):\n",
    "    t, ts = time_nn(vectors, i)\n",
    "    print(f'Fitting took: {t * 1000} ms')\n",
    "    return np.average(ts)\n",
    "    \n",
    "def time_and_plot(vectors, count, message):\n",
    "    fig = pyplot.figure()\n",
    "    ax = fig.add_subplot(1, 1, 1)\n",
    "    labels = range(1, count + 1)\n",
    "    ys = []\n",
    "    print(message)\n",
    "    for i in labels:\n",
    "        ys.append(plot_recommender_times(vectors, i))\n",
    "        \n",
    "    ax.bar(labels, ys, 0.35)\n",
    "    pyplot.xlabel('k')\n",
    "    pyplot.ylabel('time[ms]')\n",
    "    pyplot.show()\n",
    "\n",
    "time_and_plot(bert_test_vectors, 5, 'BERT recommender')\n",
    "time_and_plot(bow_test_vectors, 5, 'BoW recommender')\n",
    "time_and_plot(tfidf_test_vectors, 5, 'TF-IDF recommender')\n",
    "time_and_plot(word2vec_test_vectors, 5, 'Word2Vec recommender')\n",
    "time_and_plot(doc2vec_test_vectors, 5, 'Doc2Vec recommender')"
   ]
  },
  {
   "cell_type": "markdown",
   "metadata": {},
   "source": [
    "##  Vectorization time"
   ]
  },
  {
   "cell_type": "code",
   "execution_count": 192,
   "metadata": {},
   "outputs": [
    {
     "data": {
      "image/png": "[encoded data removed]",
      "text/plain": [
       "<Figure size 432x288 with 1 Axes>"
      ]
     },
     "metadata": {
      "needs_background": "light"
     },
     "output_type": "display_data"
    }
   ],
   "source": [
    "import random\n",
    "import numpy as np\n",
    "\n",
    "def choose_random_articles(count):\n",
    "    articles_idx = []\n",
    "    for i in range(0,count):\n",
    "        x = random.randint(0,len(names))\n",
    "        articles_idx.append(x)\n",
    "    return articles_idx\n",
    "\n",
    "def time_vectorization(vectorizer, text):\n",
    "    t0 = time.time()\n",
    "    vectorizer([text])\n",
    "    return (time.time() - t0) * 1000\n",
    "\n",
    "def plot_vectorization(vectorizer, idxs, texts=articles_test_contents):\n",
    "    return np.average(np.log([time_vectorization(vectorizer, texts[idx]) for idx in idxs]))\n",
    "    \n",
    "    \n",
    "def time_and_plot(count):\n",
    "    articles_idx = choose_random_articles(count)\n",
    "    fig = pyplot.figure()\n",
    "    ax = fig.add_subplot(1, 1, 1)\n",
    "    labels = ['BoW', 'TF-IDF', 'Word2Vec', 'Doc2Vec', 'BERT']\n",
    "    ys = []\n",
    "    ys.append(plot_vectorization(bow_vectorizer.transform, articles_idx))\n",
    "    ys.append(plot_vectorization(tfidf_vectorizer.transform, articles_idx))\n",
    "    ys.append(plot_vectorization(word2vec_vectorizer, articles_idx))\n",
    "    ys.append(plot_vectorization(doc2vec_vectorizer, articles_idx))\n",
    "    ys.append(plot_vectorization(bert_vectorizer, articles_idx, X_train))\n",
    "    \n",
    "    ax.bar(labels, ys, 0.35)\n",
    "\n",
    "    ax.set_yscale('log')\n",
    "    pyplot.xlabel('Vectorizer')\n",
    "    pyplot.ylabel('Log(time[ms])')\n",
    "    pyplot.show()\n",
    "    \n",
    "time_and_plot(100)\n"
   ]
  },
  {
   "cell_type": "markdown",
   "metadata": {},
   "source": [
    "# Accuracy"
   ]
  },
  {
   "cell_type": "code",
   "execution_count": 172,
   "metadata": {},
   "outputs": [
    {
     "name": "stdout",
     "output_type": "stream",
     "text": [
      "[2414, 1540, 1182, 2566, 707, 1140, 954, 561, 1986, 79]\n"
     ]
    }
   ],
   "source": [
    "import random\n",
    "\n",
    "def choose_random_articles(count):\n",
    "    articles_idx = []\n",
    "    for i in range(0,count):\n",
    "        x = random.randint(0,len(names))\n",
    "        articles_idx.append(x)\n",
    "        \n",
    "    print(articles_idx)\n",
    "    return articles_idx\n",
    "\n",
    "accuracy_samples = choose_random_articles(10)"
   ]
  },
  {
   "cell_type": "code",
   "execution_count": 173,
   "metadata": {},
   "outputs": [
    {
     "name": "stdout",
     "output_type": "stream",
     "text": [
      "2414 Trump strikes blow against Iran nuclear deal\n",
      "BERT\n",
      "2414 Trump strikes blow against Iran nuclear deal\n",
      "643 Trump previews Iran nuclear speech: \"I think you're going to...\n",
      "187 Iran will keep building missiles, Rouhani says\n",
      "\n",
      "BoW\n",
      "2414 Trump strikes blow against Iran nuclear deal\n",
      "643 Trump previews Iran nuclear speech: \"I think you're going to...\n",
      "255 Top News Headlines\n",
      "\n",
      "TF-IDF\n",
      "2414 Trump strikes blow against Iran nuclear deal\n",
      "643 Trump previews Iran nuclear speech: \"I think you're going to...\n",
      "187 Iran will keep building missiles, Rouhani says\n",
      "\n",
      "Word2Vec\n",
      "2414 Trump strikes blow against Iran nuclear deal\n",
      "2443 Rubik's Cuber Shocks Room By Breaking Famed World Record\n",
      "2060 Hit by a drunken driver at 17, she gives other amputees hope\n",
      "\n",
      "Doc2Vec\n",
      "2414 Trump strikes blow against Iran nuclear deal\n",
      "830 Trump: Being friends with North Korea's Kim is possible\n",
      "930 Dateline Asia Video\n",
      "\n",
      "===========\n",
      "\n",
      "1540 Reuters Newsmaker: Paul Ryan\n",
      "BERT\n",
      "1540 Reuters Newsmaker: Paul Ryan\n",
      "1558 Mnuchin pressed on Trump's false tax claim\n",
      "2626 Politics & Political News\n",
      "\n",
      "BoW\n",
      "1540 Reuters Newsmaker: Paul Ryan\n",
      "1524 It's a big day on Capitol Hill: Follow live\n",
      "1701 Know which VP tackled a Heisman Trophy winner?\n",
      "\n",
      "TF-IDF\n",
      "1540 Reuters Newsmaker: Paul Ryan\n",
      "501 Rough Cuts Video\n",
      "1156 Trump urges House GOP to pass Senate budget, tax reform\n",
      "\n",
      "Word2Vec\n",
      "1540 Reuters Newsmaker: Paul Ryan\n",
      "903 Photos: Chinese President Xi Jinping\n",
      "12 Weinstein \"finished in Hollywood\" - Hollywood Reporter\n",
      "\n",
      "Doc2Vec\n",
      "1540 Reuters Newsmaker: Paul Ryan\n",
      "1475 Exclusive: Paul Ryan foresees 'class 5 rapids' in tax push\n",
      "1513 Mueller interviews top WH aide Stephen Miller\n",
      "\n",
      "===========\n",
      "\n",
      "1182 White nationalists cancel second rally in Tennessee\n",
      "BERT\n",
      "1182 White nationalists cancel second rally in Tennessee\n",
      "1837 Protesters heckle Richard Spencer at Univ. of Florida talk\n",
      "2598 Raqqa: SDF declare 'total liberation' of ISIS bastion\n",
      "\n",
      "BoW\n",
      "1182 White nationalists cancel second rally in Tennessee\n",
      "133 Charlottesville suing to stop private militias at future rallies\n",
      "2353 Suicide bombers target mosque in Kirkuk, Iraq\n",
      "\n",
      "TF-IDF\n",
      "1182 White nationalists cancel second rally in Tennessee\n",
      "1648 Man beaten by white supremacists in Charlottesville is arrested\n",
      "1837 Protesters heckle Richard Spencer at Univ. of Florida talk\n",
      "\n",
      "Word2Vec\n",
      "1182 White nationalists cancel second rally in Tennessee\n",
      "938 Opinion Video Channel\n",
      "2495 Culture Video Channel\n",
      "\n",
      "Doc2Vec\n",
      "1182 White nationalists cancel second rally in Tennessee\n",
      "2179 Libyan coastguard intercepts boat carrying over 100 migrants\n",
      "1969 Is Apple Cider Vinegar Good For You?\n",
      "\n",
      "===========\n",
      "\n",
      "2566 Los Angeles declares an official \"Morrissey Day\"\n",
      "BERT\n",
      "2566 Los Angeles declares an official \"Morrissey Day\"\n",
      "1549 Grace Jones brings her eccentricity to film premiere\n",
      "879 Entertainment Industry & Celebrity News\n",
      "\n",
      "BoW\n",
      "2566 Los Angeles declares an official \"Morrissey Day\"\n",
      "1524 It's a big day on Capitol Hill: Follow live\n",
      "1701 Know which VP tackled a Heisman Trophy winner?\n",
      "\n",
      "TF-IDF\n",
      "2566 Los Angeles declares an official \"Morrissey Day\"\n",
      "658 Jane Goodall celebrated in Hollywood\n",
      "66 Elton John celebrates the 25th anniversary of AIDS foundation\n",
      "\n",
      "Word2Vec\n",
      "2566 Los Angeles declares an official \"Morrissey Day\"\n",
      "1264 Instead Of Fostering Party Unity, Trump Has Attacked 20 Percent Of GOP Senators\n",
      "2118 Judge rejects bid to revive Obamacare subsidies\n",
      "\n",
      "Doc2Vec\n",
      "2566 Los Angeles declares an official \"Morrissey Day\"\n",
      "859 Questions surround challenger for Japan's top job\n",
      "2503 Clowns from around the world gather in Mexico City\n",
      "\n",
      "===========\n",
      "\n",
      "707 Bystander helps revive marathon runner who collapsed after going - KPTV - FOX 12\n",
      "BERT\n",
      "707 Bystander helps revive marathon runner who collapsed after going - KPTV - FOX 12\n",
      "802 Louisiana oil rig explodes, at least 7 injured\n",
      "2232 3 killed, 2 wounded at Maryland office park shooting\n",
      "\n",
      "BoW\n",
      "707 Bystander helps revive marathon runner who collapsed after going - KPTV - FOX 12\n",
      "15 Watch: How To Make Easy Greek-Style Chicken Wraps\n",
      "1524 It's a big day on Capitol Hill: Follow live\n",
      "\n",
      "TF-IDF\n",
      "707 Bystander helps revive marathon runner who collapsed after going - KPTV - FOX 12\n",
      "1579 Can a marathon be run in under two hours?\n",
      "872 Police: Ford worker killed himself at Detroit-area factory - WNEM TV 5\n",
      "\n",
      "Word2Vec\n",
      "707 Bystander helps revive marathon runner who collapsed after going - KPTV - FOX 12\n",
      "1683 Obama to report for jury duty in Chicago\n",
      "1716 Saudi Arabia intercepts ballistic missile over capital\n",
      "\n",
      "Doc2Vec\n",
      "707 Bystander helps revive marathon runner who collapsed after going - KPTV - FOX 12\n",
      "439 Corker: I don't care what comes out of the WH\n",
      "437 Corker: Leaders know what Trump says is untrue\n",
      "\n",
      "===========\n",
      "\n",
      "1140 Airbnb users up 110% in Africa\n",
      "BERT\n",
      "1140 Airbnb users up 110% in Africa\n",
      "1722 Green gold rush: Who will win Africa's weed race?\n",
      "1584 Trump is the swamp monster\n",
      "\n",
      "BoW\n",
      "1140 Airbnb users up 110% in Africa\n",
      "2231 Macedonia fires honorary consul over murder charges\n",
      "2112 Beijing's Airbnb blackout ahead of Party Congress\n",
      "\n",
      "TF-IDF\n",
      "1140 Airbnb users up 110% in Africa\n",
      "2112 Beijing's Airbnb blackout ahead of Party Congress\n",
      "2231 Macedonia fires honorary consul over murder charges\n",
      "\n",
      "Word2Vec\n",
      "1140 Airbnb users up 110% in Africa\n",
      "1979 Nineteen years under the rainbow\n",
      "1087 Raqqa: The women who helped defeat ISIS\n",
      "\n",
      "Doc2Vec\n",
      "1140 Airbnb users up 110% in Africa\n",
      "1821 Yemen's cholera crisis laid bare in new hospital footage\n",
      "975 5 things for October 16: Family freed, Somalia bombings, California wildfires\n",
      "\n",
      "===========\n",
      "\n",
      "954 Arts - Entertainment\n",
      "BERT\n",
      "3 Arts - Entertainment\n",
      "611 Arts - Entertainment\n",
      "1504 Arts - Entertainment\n",
      "\n",
      "BoW\n",
      "3 Arts - Entertainment\n",
      "1504 Arts - Entertainment\n",
      "611 Arts - Entertainment\n",
      "\n",
      "TF-IDF\n",
      "3 Arts - Entertainment\n",
      "1504 Arts - Entertainment\n",
      "611 Arts - Entertainment\n",
      "\n",
      "Word2Vec\n",
      "3 Arts - Entertainment\n",
      "2127 Russia: no alarm for oil, gas industry after Qatar diplomatic row - source\n",
      "669 Judges turn to extreme remedy to block Trump administration\n",
      "\n",
      "Doc2Vec\n",
      "3 Arts - Entertainment\n",
      "2460 Terrorist Attacks by Vehicle Fast Facts\n",
      "1504 Arts - Entertainment\n",
      "\n",
      "===========\n",
      "\n",
      "561 Data Dive: How does the THAAD anti-missile defense work?\n",
      "BERT\n",
      "2204 Btp in rally dopo estensione Qe, spread a minimi da dicembre\n",
      "104 Ubi, firmato accordo con sindacati su esuberi tre good bank\n",
      "1999 El beneficio de Santander en el 3er trimestre cae por Popular\n",
      "\n",
      "BoW\n",
      "104 Ubi, firmato accordo con sindacati su esuberi tre good bank\n",
      "127 Data Dive: Republican healthcare plan, by the numbers\n",
      "232 Venus vence a Muguruza y avanza a semifinales del WTA Finals de tenis\n",
      "\n",
      "TF-IDF\n",
      "104 Ubi, firmato accordo con sindacati su esuberi tre good bank\n",
      "127 Data Dive: Republican healthcare plan, by the numbers\n",
      "232 Venus vence a Muguruza y avanza a semifinales del WTA Finals de tenis\n",
      "\n",
      "Word2Vec\n",
      "1999 El beneficio de Santander en el 3er trimestre cae por Popular\n",
      "588 Catalogna, no di Puigdemont a elezioni, garanzie Madrid insufficienti\n",
      "358 Data Dive: How does the THAAD anti-missile defense work?\n",
      "\n",
      "Doc2Vec\n",
      "866 Data Dive: CO2 emissions on the decline\n",
      "588 Catalogna, no di Puigdemont a elezioni, garanzie Madrid insufficienti\n",
      "1761 Italia, fiducia imprese e consumatori continuano trend positivo in ottobre\n",
      "\n",
      "===========\n",
      "\n",
      "1986 You don't need a permit to buy a gun in Nevada\n",
      "BERT\n",
      "1986 You don't need a permit to buy a gun in Nevada\n",
      "1039 Emma Stone, Julianne Moore call on Americans to 'reject the NRA's dangerous agenda'\n",
      "2067 Texas gunman a 'powder keg': governor\n",
      "\n",
      "BoW\n",
      "1986 You don't need a permit to buy a gun in Nevada\n",
      "938 Opinion Video Channel\n",
      "2495 Culture Video Channel\n",
      "\n",
      "TF-IDF\n",
      "1986 You don't need a permit to buy a gun in Nevada\n",
      "1571 Sachs: A modest proposal on guns\n",
      "1112 Mass shootings in America are a serious problem -- and these 9 charts show just why\n",
      "\n",
      "Word2Vec\n",
      "1986 You don't need a permit to buy a gun in Nevada\n",
      "238 Technology News\n",
      "1411 Tim Cahill to travel to Honduras for Socceroos' World Cup play-off despite ankle injury\n",
      "\n",
      "Doc2Vec\n",
      "1986 You don't need a permit to buy a gun in Nevada\n",
      "124 Catalan leader says not enough guarantees from Madrid to call election\n",
      "1186 Legge Bilancio, quasi 4.000 gli emendamenti in Senato\n",
      "\n",
      "===========\n",
      "\n",
      "79 Key Trump ally Schiller to appear before House panel\n",
      "BERT\n",
      "79 Key Trump ally Schiller to appear before House panel\n",
      "1823 The extraordinary arrogance of Trump interviewing US attorneys\n",
      "821 Trump nominee for top Agriculture post withdraws amid Russia probe\n",
      "\n",
      "BoW\n",
      "79 Key Trump ally Schiller to appear before House panel\n",
      "2479 Russian elites invested in Trump buildings: documents\n",
      "729 Clinton defends funding the dossier\n",
      "\n",
      "TF-IDF\n",
      "79 Key Trump ally Schiller to appear before House panel\n",
      "1220 Trump's ex-bodyguard nixed offer of Russian women for Trump\n",
      "1115 Pretending problem doesn't exist doesn't solve problem, American President learns\n",
      "\n",
      "Word2Vec\n",
      "79 Key Trump ally Schiller to appear before House panel\n",
      "2040 Birthday Gifts For Boyfriend: What To Get Him On His Day\n",
      "885 After long delay, State Department advances Russia sanctions\n",
      "\n",
      "Doc2Vec\n",
      "79 Key Trump ally Schiller to appear before House panel\n",
      "259 Murphy: Dems should give back Weinstein money\n",
      "776 Trump: I would love to get involved with DOJ\n",
      "\n",
      "===========\n",
      "\n"
     ]
    }
   ],
   "source": [
    "def style_recommendation(name, recommend, article):\n",
    "    print(name)\n",
    "    recommend(article)\n",
    "    print()\n",
    "    \n",
    "def style_article_recommendation(article_id):\n",
    "    line = \"===========\"\n",
    "    article = names[article_id] \n",
    "    print(article_id, article)\n",
    "    style_recommendation(\"BERT\", bertRecommend, article)\n",
    "    style_recommendation(\"BoW\", bowRecommend, article)\n",
    "    style_recommendation(\"TF-IDF\", tfidfRecommend, article)\n",
    "    style_recommendation(\"Word2Vec\", word2vecRecommend, article)\n",
    "    style_recommendation(\"Doc2Vec\", doc2vecRecommend, article)\n",
    "    print(line)\n",
    "    print()\n",
    "\n",
    "for article_id in accuracy_samples:\n",
    "    style_article_recommendation(article_id)\n"
   ]
  },
  {
   "cell_type": "code",
   "execution_count": 159,
   "metadata": {},
   "outputs": [],
   "source": [
    "accuracy_samples = [415, 672, 978]"
   ]
  },
  {
   "cell_type": "code",
   "execution_count": 182,
   "metadata": {},
   "outputs": [],
   "source": [
    "bert_vectorizer = build_vectorizer(estimator, build_input_fn)"
   ]
  },
  {
   "cell_type": "code",
   "execution_count": null,
   "metadata": {},
   "outputs": [],
   "source": []
  }
 ],
 "metadata": {
  "kernelspec": {
   "display_name": "Python 3",
   "language": "python",
   "name": "python3"
  },
  "language_info": {
   "codemirror_mode": {
    "name": "ipython",
    "version": 3
   },
   "file_extension": ".py",
   "mimetype": "text/x-python",
   "name": "python",
   "nbconvert_exporter": "python",
   "pygments_lexer": "ipython3",
   "version": "3.7.4"
  }
 },
 "nbformat": 4,
 "nbformat_minor": 2
}
